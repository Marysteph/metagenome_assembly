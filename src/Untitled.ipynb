{
 "cells": [
  {
   "cell_type": "code",
   "execution_count": 14,
   "id": "77b0c660-3e18-45c7-bab2-aa41fc465422",
   "metadata": {},
   "outputs": [],
   "source": [
    "import os \n",
    "import json \n",
    "import re\n",
    "\n",
    "from utils import (\n",
    "    aria2c_download_file, \n",
    "    modify_config_file\n",
    ")\n",
    "\n",
    "import logging\n",
    "logging.basicConfig(level=logging.DEBUG)"
   ]
  },
  {
   "cell_type": "code",
   "execution_count": 11,
   "id": "46b1d852-13c4-494e-8751-84292c024862",
   "metadata": {},
   "outputs": [],
   "source": [
    "url = \"https://genome-idx.s3.amazonaws.com/bt/GRCh38_noalt_as.zip\"\n",
    "def download_bowtie_index(save_dir, url=url):\n",
    "    database_dir = os.path.join(save_dir, \"databases\")\n",
    "    os.makedirs(database_dir, exist_ok=True)\n",
    "    filename = aria2c_download_file(url, database_dir)\n",
    "    logging.info(\"Decompressing Bowtie2 indexes\")\n",
    "    zip_path = os.path.join(database_dir, filename)\n",
    "    os.system(f\"unzip {zip_path} -d {database_dir}\")\n",
    "    os.remove(zip_path)\n",
    "    \n",
    "    bowtie_index_path = os.path.abspath(os.path.join(database_dir, filename.split(\".\")[0]))\n",
    "    modify_config_file(\"config.ini\",\n",
    "                       section=\"bowtie2\", \n",
    "                       config_name=\"bowtie2_index_path\",\n",
    "                       config_value=\"bowtie2_index_path\")"
   ]
  },
  {
   "cell_type": "code",
   "execution_count": null,
   "id": "947d2fd9-c9ca-4300-8e31-1000d52ad8b9",
   "metadata": {},
   "outputs": [],
   "source": [
    "def prepare_inputs(study_path, step=\"qc_and_assemble\", r1_suffix=\"_1.fastq.gz\", r2_suffix=\"_2.fastq.gz\")\n",
    "    if step == \"qc_and_assemble\":\n",
    "        # getting sorted lists of forward and reverse reads from a folder\n",
    "        forward, reverse = [os.path.join(study_path, file) for file in sorted(os.listdir(study_path)) if file.endswith(r1_suffix)], \\\n",
    "                           [os.path.join(study_path, file) for file in sorted(os.listdir(study_path)) if file.endswith(r2_suffix)]\n",
    "\n",
    "        # template\n",
    "        with open(\"json_templates/1-qc_and_assemble.json\", \"r\") as f:\n",
    "            template = json.load(f)\n",
    "        # adding files to json\n",
    "\n",
    "        for r1, r2 in zip(forward, reverse):\n",
    "            template[\"qc_and_assemble.sampleInfo\"].append({\"file_r1\": r1, \"file_r2\": r2})\n",
    "\n",
    "        # writing input json\n",
    "        with open('inputs.json', 'w') as f:\n",
    "            json.dump(template, f, indent=4, sort_keys=True, ensure_ascii=False)"
   ]
  },
  {
   "cell_type": "code",
   "execution_count": 19,
   "id": "0ce0723f-8545-4976-99ae-8bdfbc7ba5aa",
   "metadata": {},
   "outputs": [],
   "source": []
  },
  {
   "cell_type": "code",
   "execution_count": 20,
   "id": "c62dfba3-044b-42a2-b687-2a17f2f36a88",
   "metadata": {},
   "outputs": [
    {
     "data": {
      "text/plain": [
       "{'qc_and_assemble.sample_suffix': '_1.fastq.gz',\n",
       " 'qc_and_assemble.bowtie2_index_path': 'GRCh38',\n",
       " 'qc_and_assemble.thread_num': 4,\n",
       " 'qc_and_assemble.sampleInfo': {'file_r1': [], 'file_r2': []},\n",
       " 'qc_and_assemble.trf_path': '/bin',\n",
       " 'qc_and_assemble.bowtie2_path': '/bin'}"
      ]
     },
     "execution_count": 20,
     "metadata": {},
     "output_type": "execute_result"
    }
   ],
   "source": [
    "template"
   ]
  },
  {
   "cell_type": "code",
   "execution_count": null,
   "id": "a0e73279-0b18-41ff-8e5e-317f3f154133",
   "metadata": {},
   "outputs": [],
   "source": []
  }
 ],
 "metadata": {
  "kernelspec": {
   "display_name": "pipeline",
   "language": "python",
   "name": "pipeline"
  },
  "language_info": {
   "codemirror_mode": {
    "name": "ipython",
    "version": 3
   },
   "file_extension": ".py",
   "mimetype": "text/x-python",
   "name": "python",
   "nbconvert_exporter": "python",
   "pygments_lexer": "ipython3",
   "version": "3.9.0"
  }
 },
 "nbformat": 4,
 "nbformat_minor": 5
}
